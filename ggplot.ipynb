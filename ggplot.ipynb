{
    "cells": [
        {
            "cell_type": "markdown",
            "metadata": {},
            "source": [
                "<style type=\"text/css\">\n",
                "\n",
                "h1.title {\n",
                "  font-size: 20px;\n",
                "  color: DarkRed;\n",
                "}\n",
                "h1 { /* Header 1 */\n",
                "  font-size: 12px;\n",
                "  color: DarkBlue;\n",
                "}\n",
                "h2 { /* Header 2 */\n",
                "    font-size: 15px;\n",
                "  color: DarkBlue;\n",
                "}\n",
                "body, td {\n",
                "   font-size: 11px;\n",
                "}\n",
                "code.r{\n",
                "  font-size: 11px;\n",
                "}\n",
                "pre {\n",
                "  font-size: 11px\n",
                "}\n",
                "\n",
                "<\/style>\n",
                "\n",
                "\n",
                "## 그림을 통한 다변량 데이터 표현\n",
                "\n",
                "# ggplot 함수의 세가지 요소\n",
                "\n",
                "1. data\n",
                "\n",
                "2. aesthetic mapping\n",
                "\n",
                "3. 적어도 하나의 layer - geom 함수\n"
            ]
        },
        {
            "cell_type": "code",
            "execution_count": null,
            "metadata": {},
            "outputs": [],
            "source": [
                "library(reshape2) \n",
                "library(ggplot2) \n",
                "ggplot(mpg, aes(x = displ, y = hwy)) + geom_point()\n"
            ]
        },
        {
            "cell_type": "markdown",
            "metadata": {},
            "source": [
                "# aes 함수에서 colour, size, shape 지정하기\n",
                "\n",
                "* aes(displ, hwy, colour = class)\n",
                "* aes(displ, hwy, shape = drv)\n",
                "* aes(displ, hwy, size = cyl)\n"
            ]
        },
        {
            "cell_type": "code",
            "execution_count": null,
            "metadata": {},
            "outputs": [],
            "source": [
                "g1 = ggplot(mpg, aes(displ, hwy, colour = class)) + geom_point()\n",
                "g2 = ggplot(mpg, aes(displ, cty, shape = drv)) + geom_point()\n",
                "g3 = ggplot(mpg, aes(displ, cty, size = cyl)) + geom_point()\n",
                "\n",
                "library(gridExtra)\n",
                "grid.arrange(g1,g2,g3, nrow=1, ncol=3)\n"
            ]
        },
        {
            "cell_type": "markdown",
            "metadata": {},
            "source": [
                "# 다양한 geom들\n",
                "*  geom_smooth() : smooth line과 se를 표시\n",
                "*  geom_boxplot(): 상자그림\n",
                "*  geom_histogram(), geom_freqpoly() : 연속변수의 분포\n",
                "*  geom_bar() : 막대그림\n",
                "*  geom_path(): 점들을 자료 순서대로 선으로 연결한 그림\n",
                "*  geom_line(): 산점도에서의 위치에 따라 왼쪽에서 오른쪽순으로 모든 점들을 연결\n"
            ]
        },
        {
            "cell_type": "code",
            "execution_count": null,
            "metadata": {},
            "outputs": [],
            "source": [
                "g1 = ggplot(mpg,aes(displ,hwy))+geom_point()+geom_smooth()\n",
                "g2 = ggplot(mpg,aes(drv,hwy))+geom_boxplot()\n",
                "g3 = ggplot(economics, aes(date,uempmed))+geom_line()\n",
                "\n",
                "grid.arrange(g1,g2,g3, nrow=1, ncol=3)\n"
            ]
        },
        {
            "cell_type": "markdown",
            "metadata": {},
            "source": [
                "# Tipping data\n",
                "\n",
                "One waiter recorded information about each tip he received over a period of a few months working in one restaurant. He collected several variables:\n",
                "\n",
                "* tip: tip in dollars\n",
                "\n",
                "* total_bill: bill in dollars\n",
                "\n",
                "* sex: sex of the bill payer\n",
                "\n",
                "* smoker: whether there were smokers in the party\n",
                "\n",
                "* day: day of the week\n",
                "\n",
                "* time: time of day\n",
                "\n",
                "* size: size of the party\n"
            ]
        },
        {
            "cell_type": "code",
            "execution_count": null,
            "metadata": {},
            "outputs": [],
            "source": [
                "head(tips)\n",
                "\n"
            ]
        },
        {
            "cell_type": "markdown",
            "metadata": {},
            "source": [
                "\n",
                "# 하나의 연속형자료\n"
            ]
        },
        {
            "cell_type": "code",
            "execution_count": null,
            "metadata": {},
            "outputs": [],
            "source": [
                "ggplot(tips,aes(total_bill))+geom_histogram()\n",
                "\n"
            ]
        },
        {
            "cell_type": "markdown",
            "metadata": {},
            "source": [
                "\n",
                "# 하나의 범주형 자료\n"
            ]
        },
        {
            "cell_type": "code",
            "execution_count": null,
            "metadata": {},
            "outputs": [],
            "source": [
                "ggplot(tips,aes(day))+geom_bar()\n",
                "\n"
            ]
        },
        {
            "cell_type": "markdown",
            "metadata": {},
            "source": [
                "\n",
                "# 두 개의 연속형 자료\n"
            ]
        },
        {
            "cell_type": "code",
            "execution_count": null,
            "metadata": {},
            "outputs": [],
            "source": [
                "ggplot(tips,aes(total_bill,tip))+geom_point()\n",
                "\n"
            ]
        },
        {
            "cell_type": "markdown",
            "metadata": {},
            "source": [
                "\n",
                "# 하나의 연속형, 하나의 범주형 자료\n"
            ]
        },
        {
            "cell_type": "code",
            "execution_count": null,
            "metadata": {},
            "outputs": [],
            "source": [
                "ggplot(tips,aes(day, total_bill))+geom_boxplot()\n",
                "\n"
            ]
        },
        {
            "cell_type": "markdown",
            "metadata": {},
            "source": [
                "\n",
                "# 3개 이상의 연속형 변수 : 산점도 행렬(scatterplot matrix)\n"
            ]
        },
        {
            "cell_type": "code",
            "execution_count": null,
            "metadata": {},
            "outputs": [],
            "source": [
                "head(iris)\n",
                "pairs(iris[,-5])\n"
            ]
        },
        {
            "cell_type": "markdown",
            "metadata": {},
            "source": [
                "\n",
                "# 3차원 산점도\n"
            ]
        },
        {
            "cell_type": "code",
            "execution_count": null,
            "metadata": {},
            "outputs": [],
            "source": [
                "library(lattice) \n",
                "attach(iris) \n",
                "cloud(Sepal.Length ~ Petal.Length * Petal.Width | Species, data = iris)\n"
            ]
        },
        {
            "cell_type": "markdown",
            "metadata": {},
            "source": [
                "\n",
                "\n"
            ]
        }
    ],
    "metadata": {
        "anaconda-cloud": "",
        "kernelspec": {
            "display_name": "R",
            "langauge": "R",
            "name": "ir"
        },
        "language_info": {
            "codemirror_mode": "r",
            "file_extension": ".r",
            "mimetype": "text/x-r-source",
            "name": "R",
            "pygments_lexer": "r",
            "version": "3.4.1"
        }
    },
    "nbformat": 4,
    "nbformat_minor": 1
}
